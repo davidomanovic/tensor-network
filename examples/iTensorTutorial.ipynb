{
 "cells": [
  {
   "cell_type": "markdown",
   "id": "b9a2ecd2",
   "metadata": {},
   "source": [
    "# iTensors.jl\n",
    "\n",
    "This notebook serves as a test run of the example code given in the documentation at https://docs.itensor.org/ITensors/stable/#Singular-Value-Decomposition-(SVD)-of-a-Tensor\n",
    "\n",
    "This is purely a copy paste of the iTensor code samples, testing the functionality inside a `.ipynb` environment.\n",
    "\n",
    "**References**\n",
    "\n",
    "1. Matthew Fishman, Steven R. White, and E. Miles Stoudenmire, *The ITensor Software Library for Tensor Network Calculations*, SciPost Phys. Codebases, 4 (2022), SciPost. [doi:10.21468/SciPostPhysCodeb.4](https://doi.org/10.21468/SciPostPhysCodeb.4).\n",
    "\n",
    "2. Matthew Fishman, Steven R. White, and E. Miles Stoudenmire, *Codebase release 0.3 for ITensor*, SciPost Phys. Codebases, 4-r0.3 (2022), SciPost. [doi:10.21468/SciPostPhysCodeb.4-r0.3](https://doi.org/10.21468/SciPostPhysCodeb.4-r0.3).\n"
   ]
  },
  {
   "cell_type": "markdown",
   "id": "18c31522",
   "metadata": {},
   "source": [
    "# Basic Overview\n",
    "ITensor construction, setting of elements, contraction, and addition. Before constructing an ITensor, one constructs Index objects representing tensor indices."
   ]
  },
  {
   "cell_type": "code",
   "execution_count": null,
   "id": "896287e9",
   "metadata": {},
   "outputs": [],
   "source": [
    "using ITensors"
   ]
  },
  {
   "cell_type": "code",
   "execution_count": null,
   "id": "d5428cfd",
   "metadata": {},
   "outputs": [
    {
     "name": "stdout",
     "output_type": "stream",
     "text": [
      "hasinds(C, i, k, l) = true\n"
     ]
    }
   ],
   "source": [
    "let\n",
    "  i = Index(3)\n",
    "  j = Index(5)\n",
    "  k = Index(2)\n",
    "  l = Index(7)\n",
    "\n",
    "  A = ITensor(i,j,k)\n",
    "  B = ITensor(j,l)\n",
    "\n",
    "  # Set elements of A\n",
    "  A[i=>1,j=>1,k=>1] = 11.1\n",
    "  A[i=>2,j=>1,k=>2] = -21.2\n",
    "  A[k=>1,i=>3,j=>1] = 31.1  # can provide Index values in any order\n",
    "  # ...\n",
    "\n",
    "  # Contract over shared index j\n",
    "  C = A * B\n",
    "\n",
    "  @show hasinds(C,i,k,l) # = true\n",
    "\n",
    "  D = random_itensor(k,j,i) # ITensor with random elements\n",
    "\n",
    "  # Add two ITensors\n",
    "  # must have same set of indices\n",
    "  # but can be in any order\n",
    "  R = A + D\n",
    "\n",
    "  nothing\n",
    "end"
   ]
  },
  {
   "cell_type": "markdown",
   "id": "65a71f72",
   "metadata": {},
   "source": [
    "# Singular Value Decomposition (SVD) of a Matrix\n",
    "In this example, we create a random 10x20 matrix and compute its SVD. The resulting factors can be simply multiplied back together using the ITensor * operation, which automatically recognizes the matching indices between U and S, and between S and V and contracts (sums over) them."
   ]
  },
  {
   "cell_type": "code",
   "execution_count": null,
   "id": "30695679",
   "metadata": {},
   "outputs": [
    {
     "name": "stdout",
     "output_type": "stream",
     "text": [
      "M ≈ U * S * V = true\n"
     ]
    }
   ],
   "source": [
    "let\n",
    "  i = Index(10)           # index of dimension 10\n",
    "  j = Index(20)           # index of dimension 20\n",
    "  M = random_itensor(i,j)  # random matrix, indices i,j\n",
    "  U,S,V = svd(M,i)        # compute SVD with i as row index\n",
    "  @show M ≈ U*S*V         # = true\n",
    "\n",
    "  nothing\n",
    "end"
   ]
  },
  {
   "cell_type": "markdown",
   "id": "17995ada",
   "metadata": {},
   "source": [
    "# Singular Value Decomposition (SVD) of a Tensor\n",
    "In this example, we create a random 4x4x4x4 tensor and compute its SVD, temporarily treating the indices i and k together as the \"row\" index and j and l as the \"column\" index for the purposes of the SVD. The resulting factors can be simply multiplied back together using the ITensor * operation, which automatically recognizes the matching indices between U and S, and between S and V and contracts (sums over) them."
   ]
  },
  {
   "cell_type": "code",
   "execution_count": 6,
   "id": "e4647910",
   "metadata": {},
   "outputs": [
    {
     "name": "stdout",
     "output_type": "stream",
     "text": [
      "hasinds(U, i, k) = true\n",
      "hasinds(V, j, l) = true\n",
      "T ≈ U * S * V = true\n"
     ]
    }
   ],
   "source": [
    "let\n",
    "  i = Index(4,\"i\")\n",
    "  j = Index(4,\"j\")\n",
    "  k = Index(4,\"k\")\n",
    "  l = Index(4,\"l\")\n",
    "  T = random_itensor(i,j,k,l)\n",
    "  U,S,V = svd(T,i,k)   # compute SVD with (i,k) as row indices (indices of U)\n",
    "  @show hasinds(U,i,k) # = true\n",
    "  @show hasinds(V,j,l) # = true\n",
    "  @show T ≈ U*S*V      # = true\n",
    "\n",
    "  nothing\n",
    "end"
   ]
  },
  {
   "cell_type": "markdown",
   "id": "9a7a7c09",
   "metadata": {},
   "source": [
    "# Tensor Indices: Tags and Prime Levels\n",
    "Before making an ITensor, you have to define its indices. Tensor Index objects carry extra information beyond just their dimension.\n",
    "\n",
    "All Index objects carry a permanent, immutable id number which is determined when it is constructed, and allow it to be matched (compare equal) with copies of itself.\n",
    "\n",
    "Additionally, an Index can have up to four tag strings, and an integer primelevel. If two Index objects have different tags or different prime levels, they do not compare equal even if they have the same id.\n",
    "\n",
    "Tags are also useful for identifying Index objects when printing tensors, and for performing certain Index manipulations (e.g. priming indices having certain sets of tags)."
   ]
  },
  {
   "cell_type": "code",
   "execution_count": 7,
   "id": "e7b50137",
   "metadata": {},
   "outputs": [
    {
     "name": "stdout",
     "output_type": "stream",
     "text": [
      "dim(i) = 3\n",
      "id(i) = 0x9d92fa5912cc01f0\n",
      "ci == i = true\n",
      "j == i = false\n",
      "hastags(s, \"Site\") = true\n",
      "hastags(s, \"n=1\") = true\n",
      "i1 == i = false\n"
     ]
    }
   ],
   "source": [
    "let\n",
    "  i = Index(3)     # Index of dimension 3\n",
    "  @show dim(i)     # = 3\n",
    "  @show id(i)      # = 0x5d28aa559dd13001 or similar\n",
    "\n",
    "  ci = copy(i)\n",
    "  @show ci == i    # = true\n",
    "\n",
    "  j = Index(5,\"j\") # Index with a tag \"j\"\n",
    "\n",
    "  @show j == i     # = false\n",
    "\n",
    "  s = Index(2,\"n=1,Site\") # Index with two tags,\n",
    "                          # \"Site\" and \"n=1\"\n",
    "  @show hastags(s,\"Site\") # = true\n",
    "  @show hastags(s,\"n=1\")  # = true\n",
    "\n",
    "  i1 = prime(i) # i1 has a \"prime level\" of 1\n",
    "                # but otherwise same properties as i\n",
    "  @show i1 == i # = false, prime levels do not match\n",
    "\n",
    "  nothing\n",
    "end"
   ]
  }
 ],
 "metadata": {
  "kernelspec": {
   "display_name": "Julia 1.10.0",
   "language": "julia",
   "name": "julia-1.10"
  },
  "language_info": {
   "file_extension": ".jl",
   "mimetype": "application/julia",
   "name": "julia",
   "version": "1.10.0"
  }
 },
 "nbformat": 4,
 "nbformat_minor": 5
}
